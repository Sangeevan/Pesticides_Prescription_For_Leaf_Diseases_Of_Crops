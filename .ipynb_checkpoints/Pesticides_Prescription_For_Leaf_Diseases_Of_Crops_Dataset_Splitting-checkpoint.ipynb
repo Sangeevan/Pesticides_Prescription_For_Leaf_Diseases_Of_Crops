{
 "cells": [
  {
   "cell_type": "code",
   "execution_count": 1,
   "metadata": {},
   "outputs": [],
   "source": [
    "import splitfolders"
   ]
  },
  {
   "cell_type": "code",
   "execution_count": 2,
   "metadata": {},
   "outputs": [
    {
     "name": "stderr",
     "output_type": "stream",
     "text": [
      "Copying files: 19067 files [03:38, 87.23 files/s] \n"
     ]
    }
   ],
   "source": [
    "input_folder = '../Leaf_Image_Data'\n",
    "output_folder = '../Dataset'\n",
    "splitfolders.ratio(input_folder, output=output_folder, seed=1337, ratio=(.8, .1, .1))"
   ]
  },
  {
   "cell_type": "code",
   "execution_count": null,
   "metadata": {},
   "outputs": [],
   "source": []
  }
 ],
 "metadata": {
  "kernelspec": {
   "display_name": "Python 3",
   "language": "python",
   "name": "python3"
  },
  "language_info": {
   "codemirror_mode": {
    "name": "ipython",
    "version": 3
   },
   "file_extension": ".py",
   "mimetype": "text/x-python",
   "name": "python",
   "nbconvert_exporter": "python",
   "pygments_lexer": "ipython3",
   "version": "3.8.5"
  }
 },
 "nbformat": 4,
 "nbformat_minor": 4
}
